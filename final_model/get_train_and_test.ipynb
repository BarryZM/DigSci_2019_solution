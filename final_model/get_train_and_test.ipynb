{
 "cells": [
  {
   "cell_type": "code",
   "execution_count": 2,
   "metadata": {},
   "outputs": [],
   "source": [
    "import pandas as pd\n",
    "import numpy as np\n",
    "import re\n",
    "import time\n",
    "from tqdm import tqdm\n",
    "from util import pre_process\n",
    "import pickle\n",
    "tqdm.pandas()\n",
    "%matplotlib inline\n",
    "from nltk import word_tokenize,pos_tag\n",
    "\n",
    "import warnings\n",
    "warnings.simplefilter(action='ignore', category=FutureWarning)\n",
    "warnings.filterwarnings('ignore')\n",
    "\n",
    "path='../data/'"
   ]
  },
  {
   "cell_type": "markdown",
   "metadata": {},
   "source": [
    "# 加载数据（获取关键句和预处理）"
   ]
  },
  {
   "cell_type": "code",
   "execution_count": 2,
   "metadata": {},
   "outputs": [],
   "source": [
    "train=pd.read_csv(path+'train_release.csv')\n",
    "test=pd.read_csv(path+'validation_release.csv'\n",
    "canditate=pd.read_csv(path+'candidate_paper.csv'))\n",
    "train=train[~train['description_id'].isnull()]"
   ]
  },
  {
   "cell_type": "code",
   "execution_count": 3,
   "metadata": {},
   "outputs": [
    {
     "name": "stdout",
     "output_type": "stream",
     "text": [
      "(43956, 3)\n",
      "(19018, 2)\n"
     ]
    }
   ],
   "source": [
    "'获取关键句函数'\n",
    "def digest(text):\n",
    "    backup = text[:]\n",
    "    text = text.replace('al.', '').split('. ')\n",
    "    t=''\n",
    "    pre_text=[]\n",
    "    len_text=len(text)-1\n",
    "    add=True\n",
    "    pre=''\n",
    "    while len_text>=0:\n",
    "        index=text[len_text]\n",
    "        index+=pre\n",
    "        if len(index.split(' '))<=3 :\n",
    "            add=False\n",
    "            pre=index+pre\n",
    "        else:\n",
    "            add=True\n",
    "            pre=''\n",
    "        if add:\n",
    "            pre_text.append(index)\n",
    "        len_text-=1\n",
    "    if len(pre_text)==0:\n",
    "        pre_text=text\n",
    "    pre_text.reverse()\n",
    "    for index in pre_text:\n",
    "        if index.find('[**##**]') != -1:\n",
    "            index = re.sub(r'[\\[|,]+\\*\\*\\#\\#\\*\\*[\\]|,]+','',index)\n",
    "            index+='. '\n",
    "            t+=index\n",
    "    return t\n",
    "train['key_text']=train['description_text'].apply(lambda x:digest(x))\n",
    "test['key_text']=test['description_text'].apply(lambda x:digest(x))"
   ]
  },
  {
   "cell_type": "code",
   "execution_count": null,
   "metadata": {},
   "outputs": [],
   "source": [
    "train['key_text_pre']=train['key_text'].progress_apply(lambda x:' '.join(pre_process(x)))\n",
    "test['key_text_pre']=test['key_text'].progress_apply(lambda x:' '.join(pre_process(x)))\n"
   ]
  },
  {
   "cell_type": "code",
   "execution_count": null,
   "metadata": {},
   "outputs": [],
   "source": [
    "train.to_csv(path+'train_pre.csv',index=False)\n",
    "test.to_csv(path+'test_pre.csv',index=False)"
   ]
  },
  {
   "cell_type": "code",
   "execution_count": null,
   "metadata": {},
   "outputs": [],
   "source": [
    "canditate['title_pro']=canditate['title'].progress_apply(lambda x:' '.join(pre_process(x)))"
   ]
  },
  {
   "cell_type": "code",
   "execution_count": null,
   "metadata": {},
   "outputs": [],
   "source": [
    "canditate['abstract_pre']=canditate['abstract'].progress_apply(lambda x:' '.join(pre_process(x) if str(x)!='nan' else 'none'))"
   ]
  },
  {
   "cell_type": "code",
   "execution_count": null,
   "metadata": {},
   "outputs": [],
   "source": [
    "canditate.to_csv(path+'candidate_paper_pre.csv',index=False)"
   ]
  },
  {
   "cell_type": "markdown",
   "metadata": {},
   "source": [
    "# 获得训练集和测试集"
   ]
  },
  {
   "cell_type": "code",
   "execution_count": 5,
   "metadata": {},
   "outputs": [],
   "source": [
    "train_pre=pd.read_csv(path+'train_pre.csv')\n",
    "test_pre=pd.read_csv(path+'test_pre.csv')\n",
    "canditate_pre=pd.read_csv(path+'candidate_paper_pre.csv')"
   ]
  },
  {
   "cell_type": "code",
   "execution_count": null,
   "metadata": {},
   "outputs": [],
   "source": [
    "train_pre['label']=1\n",
    "train_pre=train_pre.drop_duplicates('description_id')"
   ]
  },
  {
   "cell_type": "code",
   "execution_count": 8,
   "metadata": {},
   "outputs": [],
   "source": [
    "'获取召回数据函数'\n",
    "def get_recall(path):\n",
    "    data=pd.read_csv(path,header=None,names=['description_id']+[i for i in range(1,21)]).drop_duplicates('description_id').values\n",
    "    description_id = []\n",
    "    pid = []\n",
    "    for i in data:\n",
    "        description_id.extend([i[0]] * 20)\n",
    "        pid.extend(list(i[1:]))\n",
    "    return  pd.DataFrame({'description_id':description_id,'pid':pid})"
   ]
  },
  {
   "cell_type": "code",
   "execution_count": 10,
   "metadata": {},
   "outputs": [],
   "source": [
    "'召回pid'\n",
    "re_path='data/test_pairs_20number_tfidf.csv'\n",
    "test_recall=get_recall(re_path)\n",
    "test_data=test_pre.merge(test_recall,on='description_id',how='inner')\n",
    "re_path='data/train_pairs_20number_tfidf.csv'\n",
    "train_recall=get_recall(re_path)\n",
    "train_data=train_pre.merge(train_recall,on='description_id',how='inner')\n",
    "train_data['label']=list(map(lambda x,y: int(x==y),train_data['pid'],train_data['paper_id']))"
   ]
  },
  {
   "cell_type": "code",
   "execution_count": 11,
   "metadata": {
    "scrolled": false
   },
   "outputs": [
    {
     "data": {
      "text/plain": [
       "(879100, 8)"
      ]
     },
     "execution_count": 11,
     "metadata": {},
     "output_type": "execute_result"
    }
   ],
   "source": [
    "train_data.shape"
   ]
  },
  {
   "cell_type": "code",
   "execution_count": 12,
   "metadata": {},
   "outputs": [
    {
     "data": {
      "text/plain": [
       "(380360, 6)"
      ]
     },
     "execution_count": 12,
     "metadata": {},
     "output_type": "execute_result"
    }
   ],
   "source": [
    "test_data.shape"
   ]
  },
  {
   "cell_type": "code",
   "execution_count": 13,
   "metadata": {
    "scrolled": true
   },
   "outputs": [],
   "source": [
    "'删去没用被召回的数据'\n",
    "temp=train_data[['description_id','label']].groupby('description_id')['label'].apply(lambda x:len(set(list(x)))).reset_index()\n",
    "temp.columns=['description_id','label']\n",
    "ids=temp[temp['label']==2]['description_id'].values\n",
    "train_data=train_data[train_data['description_id'].isin(ids)]"
   ]
  },
  {
   "cell_type": "code",
   "execution_count": 14,
   "metadata": {},
   "outputs": [],
   "source": [
    "'召回获取没用被召回的论文'\n",
    "bad_ids=temp[temp['label']==1]['description_id'].values\n",
    "train_data_bad=train_pre[train_pre['description_id'].isin(bad_ids)]\n",
    "train_data_bad['pid']=train_data_bad['paper_id'].values"
   ]
  },
  {
   "cell_type": "code",
   "execution_count": 15,
   "metadata": {},
   "outputs": [
    {
     "name": "stdout",
     "output_type": "stream",
     "text": [
      "(17855, 8)\n",
      "(522000, 8)\n"
     ]
    }
   ],
   "source": [
    "print(train_data_bad.shape)\n",
    "print(train_data.shape)"
   ]
  },
  {
   "cell_type": "code",
   "execution_count": 16,
   "metadata": {},
   "outputs": [],
   "source": [
    "train_data=pd.concat([train_data,train_data_bad],axis=0,sort=True)"
   ]
  },
  {
   "cell_type": "code",
   "execution_count": 19,
   "metadata": {
    "scrolled": true
   },
   "outputs": [],
   "source": [
    "'合并对应论文'\n",
    "train_data['paper_id']=train_data['pid'].values\n",
    "train_data.pop('pid')\n",
    "train_data=train_data.merge(canditate_pre,on='paper_id',how='left')\n",
    "test_data['paper_id']=test_data['pid'].values\n",
    "test_data.pop('pid')\n",
    "test_data=test_data.merge(canditate_pre,on='paper_id',how='left')"
   ]
  },
  {
   "cell_type": "code",
   "execution_count": 16,
   "metadata": {},
   "outputs": [
    {
     "ename": "NameError",
     "evalue": "name 'train_data' is not defined",
     "output_type": "error",
     "traceback": [
      "\u001b[1;31m---------------------------------------------------------------------------\u001b[0m",
      "\u001b[1;31mNameError\u001b[0m                                 Traceback (most recent call last)",
      "\u001b[1;32m<ipython-input-16-06e818a38d1f>\u001b[0m in \u001b[0;36m<module>\u001b[1;34m\u001b[0m\n\u001b[1;32m----> 1\u001b[1;33m \u001b[0mtrain_data\u001b[0m\u001b[1;33m.\u001b[0m\u001b[0mto_csv\u001b[0m\u001b[1;33m(\u001b[0m\u001b[1;34m'train_set/train_data_tfidf_20_addbad.csv'\u001b[0m\u001b[1;33m,\u001b[0m\u001b[0mindex\u001b[0m\u001b[1;33m=\u001b[0m\u001b[1;32mFalse\u001b[0m\u001b[1;33m)\u001b[0m\u001b[1;33m\u001b[0m\u001b[1;33m\u001b[0m\u001b[0m\n\u001b[0m\u001b[0;32m      2\u001b[0m \u001b[0mtest_data\u001b[0m\u001b[1;33m.\u001b[0m\u001b[0mto_csv\u001b[0m\u001b[1;33m(\u001b[0m\u001b[1;34m'train_set/test_data_tfidf_20_addbad.csv'\u001b[0m\u001b[1;33m,\u001b[0m\u001b[0mindex\u001b[0m\u001b[1;33m=\u001b[0m\u001b[1;32mFalse\u001b[0m\u001b[1;33m)\u001b[0m\u001b[1;33m\u001b[0m\u001b[1;33m\u001b[0m\u001b[0m\n",
      "\u001b[1;31mNameError\u001b[0m: name 'train_data' is not defined"
     ]
    }
   ],
   "source": [
    "train_data.to_csv('train_set/train_data_tfidf_20_addbad.csv',index=False)\n",
    "test_data.to_csv('train_set/test_data_tfidf_20_addbad.csv',index=False)"
   ]
  },
  {
   "cell_type": "markdown",
   "metadata": {},
   "source": [
    "# merge set"
   ]
  },
  {
   "cell_type": "code",
   "execution_count": 3,
   "metadata": {},
   "outputs": [],
   "source": [
    "import pandas as pd"
   ]
  },
  {
   "cell_type": "code",
   "execution_count": 11,
   "metadata": {},
   "outputs": [
    {
     "name": "stdout",
     "output_type": "stream",
     "text": [
      "(522000, 13)\n"
     ]
    }
   ],
   "source": [
    "test_data_tf=pd.read_csv('train_set/test_data_tfidf_20.csv')\n",
    "train_data_tf=pd.read_csv('train_set/train_data_tfidf_20.csv')\n",
    "print(test_data_tf.shape)\n",
    "print(train_data_tf.shape)"
   ]
  },
  {
   "cell_type": "code",
   "execution_count": 13,
   "metadata": {},
   "outputs": [
    {
     "name": "stdout",
     "output_type": "stream",
     "text": [
      "(542320, 13)\n"
     ]
    }
   ],
   "source": [
    "test_data_bm25=pd.read_csv('train_set/test_data_bm25_20.csv')[list(test_data_tf.columns)]\n",
    "train_data_bm25=pd.read_csv('train_set/train_data_bm25_20.csv')[list(train_data_tf.columns)]\n",
    "print(test_data_bm25.shape)\n",
    "print(train_data_bm25.shape)"
   ]
  },
  {
   "cell_type": "code",
   "execution_count": 14,
   "metadata": {},
   "outputs": [
    {
     "name": "stdout",
     "output_type": "stream",
     "text": [
      "(570540, 12)\n",
      "(838252, 13)\n"
     ]
    }
   ],
   "source": [
    "train_data_merge=pd.concat([train_data_bm25,train_data_tf],axis=0,sort=True)\n",
    "test_data_merge=pd.concat([test_data_bm25,test_data_tf],axis=0,sort=True)\n",
    "print(test_data_merge.shape)\n",
    "print(train_data_merge.shape)"
   ]
  },
  {
   "cell_type": "code",
   "execution_count": 15,
   "metadata": {},
   "outputs": [],
   "source": [
    "train_data_merge=train_data_merge.drop_duplicates()\n",
    "test_data_merge=test_data_merge.drop_duplicates()"
   ]
  },
  {
   "cell_type": "code",
   "execution_count": 16,
   "metadata": {},
   "outputs": [
    {
     "name": "stdout",
     "output_type": "stream",
     "text": [
      "(459428, 12)\n",
      "(838252, 13)\n"
     ]
    }
   ],
   "source": [
    "print(test_data_merge.shape)\n",
    "print(train_data_merge.shape)"
   ]
  },
  {
   "cell_type": "code",
   "execution_count": 13,
   "metadata": {},
   "outputs": [],
   "source": [
    "train_data_merge=train_data_merge[train_data_merge['key_text_pre'].notnull()]"
   ]
  },
  {
   "cell_type": "code",
   "execution_count": 15,
   "metadata": {},
   "outputs": [],
   "source": [
    "train_data_merge.to_csv('train_set/train_data_merge_bm25_tfidf_20_add.csv',index=False)\n",
    "test_data_merge.to_csv('train_set/test_data_merge_bm25_tfidf_20.csv',index=False)"
   ]
  },
  {
   "cell_type": "code",
   "execution_count": 9,
   "metadata": {},
   "outputs": [
    {
     "data": {
      "text/plain": [
       "0    0.965089\n",
       "1    0.034911\n",
       "Name: label, dtype: float64"
      ]
     },
     "execution_count": 9,
     "metadata": {},
     "output_type": "execute_result"
    }
   ],
   "source": [
    "train_data_merge.label.value_counts(True)"
   ]
  }
 ],
 "metadata": {
  "kernelspec": {
   "display_name": "Python 3",
   "language": "python",
   "name": "python3"
  },
  "language_info": {
   "codemirror_mode": {
    "name": "ipython",
    "version": 3
   },
   "file_extension": ".py",
   "mimetype": "text/x-python",
   "name": "python",
   "nbconvert_exporter": "python",
   "pygments_lexer": "ipython3",
   "version": "3.7.2"
  },
  "toc": {
   "base_numbering": 1,
   "nav_menu": {},
   "number_sections": true,
   "sideBar": true,
   "skip_h1_title": false,
   "title_cell": "Table of Contents",
   "title_sidebar": "Contents",
   "toc_cell": false,
   "toc_position": {
    "height": "calc(100% - 180px)",
    "left": "10px",
    "top": "150px",
    "width": "384px"
   },
   "toc_section_display": true,
   "toc_window_display": true
  }
 },
 "nbformat": 4,
 "nbformat_minor": 2
}
